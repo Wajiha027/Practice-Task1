{
 "cells": [
  {
   "cell_type": "code",
   "execution_count": 17,
   "id": "ccbc5511-f47d-4156-a040-732a07e5fb2c",
   "metadata": {},
   "outputs": [
    {
     "name": "stdout",
     "output_type": "stream",
     "text": [
      "No duplicate files found.\n"
     ]
    }
   ],
   "source": [
    "import pathlib\n",
    "\n",
    "class DuplicateRemover:\n",
    "    def __init__(self, directory):\n",
    "        self.directory = pathlib.Path(directory)\n",
    "        self.file_contents = {}\n",
    "        self.duplicates_found = False\n",
    "\n",
    "    def read_file_content(self, filepath):\n",
    "        with filepath.open('rb') as file:\n",
    "            return file.read()\n",
    "\n",
    "    def find_and_remove_duplicates(self):\n",
    "        for filepath in self.directory.rglob('*'):\n",
    "            if filepath.is_file():\n",
    "                file_content = self.read_file_content(filepath)\n",
    "\n",
    "                if file_content in self.file_contents.values():\n",
    "                    print(f\"Duplicate found: {filepath} (same content as {self.file_contents[file_content]})\")\n",
    "                    filepath.unlink()\n",
    "                    self.duplicates_found = True\n",
    "                else:\n",
    "                    self.file_contents[filepath] = file_content\n",
    "\n",
    "        if not self.duplicates_found:\n",
    "            print(\"No duplicate files found.\")\n",
    "\n",
    "directory_to_clean = r\"C:\\Users\\username\\Documents\" \n",
    "remover = DuplicateRemover(directory_to_clean)\n",
    "remover.find_and_remove_duplicates()"
   ]
  }
 ],
 "metadata": {
  "kernelspec": {
   "display_name": "Python 3 (ipykernel)",
   "language": "python",
   "name": "python3"
  },
  "language_info": {
   "codemirror_mode": {
    "name": "ipython",
    "version": 3
   },
   "file_extension": ".py",
   "mimetype": "text/x-python",
   "name": "python",
   "nbconvert_exporter": "python",
   "pygments_lexer": "ipython3",
   "version": "3.12.4"
  }
 },
 "nbformat": 4,
 "nbformat_minor": 5
}
